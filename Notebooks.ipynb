{
 "cells": [
  {
   "cell_type": "markdown",
   "metadata": {},
   "source": [
    "# 001_Merge_Sorted_Array\n",
    "\n",
    "## 问题： 给定两个有序的整数数组，合并两个数组，要求合并后的数组依然有序\n",
    "\n",
    "输入：\n",
    "\n",
    "nums1 = [1,2,3,0,0,0], m = 3\n",
    "\n",
    "nums2 = [2,5,6], n = 3\n",
    "\n",
    "输出：\n",
    "\n",
    "nums1 = [1,2,2,3,5,6]\n",
    "\n",
    "条件：\n",
    "1. nums1 的长度为 m + n\n",
    "\n",
    "2. nums2 的长度为 n\n",
    "\n",
    "3. 0<= m, n <= 200\n",
    "\n",
    "4. 1<= m+n <= 200\n",
    "\n",
    "5. -10^9 <= nums1[i], nums2[i] <= 10^9\n",
    "\n",
    "## 思路： (关键是如何合并能避免插入这个操作)\n",
    "\n",
    "1. 创建一个新数组, 前向双指针比较两个数组的元素, 将较小的元素加入新数组中\n",
    "\n",
    "- 时间复杂度: O(m+n), 空间复杂度: O(m+n)\n",
    "\n",
    "- 缺点: 需要创建一个新数组, 无法实现原地修改\n",
    "\n",
    "2. 逆向双指针（从后往前合并）\n",
    "\n",
    "- 时间复杂度: O(m+n), 空间复杂度: O(1)\n",
    "\n",
    "- 优点: 原地修改, 将较大的元素移动到新数组的末尾, 直接覆盖"
   ]
  },
  {
   "cell_type": "code",
   "execution_count": null,
   "metadata": {},
   "outputs": [
    {
     "name": "stdout",
     "output_type": "stream",
     "text": [
      "nums1 = [4, 0, 0, 0, 0, 0]\n",
      "nums2 = [1, 2, 3, 5, 6]\n",
      "solution = [1, 2, 3, 4, 5, 6]\n"
     ]
    }
   ],
   "source": [
    "class Solution(object):\n",
    "    def merge(self, nums1, m, nums2, n):\n",
    "        \"\"\"\n",
    "        :type nums1: List[int]\n",
    "        :type m: int\n",
    "        :type nums2: List[int]\n",
    "        :type n: int\n",
    "        :rtype: None Do not return anything, modify nums1 in-place instead.\n",
    "        \"\"\"\n",
    "        # nums1 = [1,2,3,0,0,0]\n",
    "        #              ^     ^\n",
    "        #              i     p\n",
    "        #\n",
    "        # nums2 = [2,5,6]\n",
    "        #              ^\n",
    "        #              j\n",
    "        i, j, p = m-1, n-1, m+n-1\n",
    "\n",
    "        while j > -1:\n",
    "            # i 没遍历完 且 nums1[i] > nums2[j]\n",
    "            if i > -1 and nums1[i] > nums2[j]:\n",
    "                nums1[p] = nums1[i]\n",
    "                i -= 1 # i 前移\n",
    "            # i 遍历完 或 nums1[i] < nums2[j]\n",
    "            else:\n",
    "                nums1[p] = nums2[j] # j 去 p\n",
    "                j -= 1 # j 前移\n",
    "            \n",
    "            p -= 1 # 固定前移 p\n",
    "\n",
    "\n",
    "if __name__ == '__main__':\n",
    "    nums1 = [4,0,0,0,0,0]\n",
    "    m = 1\n",
    "    nums2 = [1,2,3,5,6]\n",
    "    n = 5\n",
    "    print(f'nums1 = {nums1}')\n",
    "    print(f'nums2 = {nums2}')\n",
    "    Solution().merge(nums1, m, nums2, n)\n",
    "    print(f'solution = {nums1}')"
   ]
  },
  {
   "cell_type": "markdown",
   "metadata": {},
   "source": [
    "# 002_Remove_Element\n",
    "\n",
    "## 问题: 原地删除数组指定元素, 并重排原数组保持前面为非删除项, 返回非删除项个数\n",
    "\n",
    "输入: \n",
    "\n",
    "nums = [3,2,2,3], val = 3\n",
    "\n",
    "输出: \n",
    "\n",
    "2, nums = [2,2,_,_]\n",
    "\n",
    "条件:\n",
    "1. 0<= nums.length <=100\n",
    "\n",
    "2. 0<= nums[i] <=50\n",
    "\n",
    "3. 0<= val <=100\n",
    "\n",
    "## 思路:\n",
    "        \n",
    "1. 创建两个指针, 一个指向当前非删除项, 一个指向当前项。\n",
    "\n",
    "2. 遍历数组, 如果当前项等于val, 则将当前项与后面项交换, 并将当前项后移一位。\n",
    "\n",
    "- 时间复杂度: O(n), 空间复杂度: O(1)\n",
    "\n",
    "- 注意: 删除项后, 数组长度不变, 只需返回非删除项个数。"
   ]
  },
  {
   "cell_type": "code",
   "execution_count": 2,
   "metadata": {},
   "outputs": [
    {
     "name": "stdout",
     "output_type": "stream",
     "text": [
      "nums=[0, 1, 2, 2, 3, 0, 4, 2]\n",
      "val=2\n",
      "solution=5,[0, 1, 4, 0, 3, -1, -1, -1]\n"
     ]
    }
   ],
   "source": [
    "class Solution(object):\n",
    "    def removeElement(self, nums, val):\n",
    "        \"\"\"\n",
    "        :type nums: List[int]\n",
    "        :type val: int\n",
    "        :rtype: int\n",
    "        \"\"\"\n",
    "        # [3,2,2,3]\n",
    "        #  ^     ^\n",
    "        #  i     j\n",
    "        n = len(nums)\n",
    "        i, j = 0, n-1\n",
    "\n",
    "        while j >= i:\n",
    "            # j 需要删除\n",
    "            if nums[j] == val:\n",
    "                nums[j] = -1\n",
    "                j -= 1\n",
    "            else:\n",
    "                # i 需要删除\n",
    "                if nums[i] == val:\n",
    "                    nums[i] = nums[j]\n",
    "                    nums[j] = -1\n",
    "                    j -= 1\n",
    "                # i 不需要删除\n",
    "                i += 1\n",
    "        \n",
    "        return j+1\n",
    "    \n",
    "if __name__ == \"__main__\":\n",
    "    nums = [0,1,2,2,3,0,4,2]\n",
    "    val = 2\n",
    "    print(f'nums={nums}')\n",
    "    print(f'val={val}')\n",
    "    k = Solution().removeElement(nums, val)\n",
    "    print(f'solution={k},{nums}')"
   ]
  },
  {
   "cell_type": "markdown",
   "metadata": {},
   "source": [
    "# 003_Remove_Duplictes\n",
    "\n",
    "## 问题: 原地删除已排序数组中的重复元素, 并重排数组, 返回不重复的个数\n",
    "\n",
    "输入: [1,1,2]\n",
    "\n",
    "输出: 2, [1,2,_]\n",
    "\n",
    "条件:\n",
    "\n",
    "1. 1 <= nums.length <= 3 * 10^4\n",
    "\n",
    "2. -100 <= nums[i] <= 100\n",
    "\n",
    "3. nums is sorted in ascending order.\n",
    "\n",
    "## 思路: (充分利用数组已排序的特性)\n",
    "1. 创建两个指针, 一个指向当前不重复的元素, 一个指向当前遍历的元素\n",
    "\n",
    "2. 如果当前元素和前一个元素相同, 则跳过\n",
    "\n",
    "3. 否则, 将当前元素复制给当前不重复的元素, 并将当前不重复的元素后移一位\n",
    "\n",
    "- 时间复杂度: O(n), 空间复杂度: O(1)"
   ]
  },
  {
   "cell_type": "code",
   "execution_count": 3,
   "metadata": {},
   "outputs": [
    {
     "name": "stdout",
     "output_type": "stream",
     "text": [
      "nums=[0, 0, 1, 1, 1, 2, 2, 3, 3, 4]\n",
      "solution=[0, 1, 2, 3, 4, 2, 2, 3, 3, 4],5\n"
     ]
    }
   ],
   "source": [
    "class Solution(object):\n",
    "    def removeDuplicates(self, nums):\n",
    "        \"\"\"\n",
    "        :type nums: List[int]\n",
    "        :rtype: int\n",
    "        \"\"\"\n",
    "        # [0,0,1,1,1,2,2,3,3,4]\n",
    "        #  ^ ^\n",
    "        #  i j\n",
    "        i, j = 0, 1\n",
    "        while j < len(nums):\n",
    "            # 非重复的元素\n",
    "            if nums[j] != nums[j-1]:\n",
    "                nums[i+1] = nums[j]\n",
    "                i += 1\n",
    "            j += 1\n",
    "        return i+1\n",
    "\n",
    "if __name__ == \"__main__\":\n",
    "    nums = [0,0,1,1,1,2,2,3,3,4]\n",
    "    print(f'nums={nums}')\n",
    "    k = Solution().removeDuplicates(nums)\n",
    "    print(f'solution={nums},{k}')"
   ]
  },
  {
   "cell_type": "markdown",
   "metadata": {},
   "source": [
    "# 004_Remove_Duplicates_2\n",
    "\n",
    "## 问题: 原地删除已排序数组中的重复元素, 重复元素至多出现2次\n",
    "\n",
    "输入: [1,1,1,2,2,3]\n",
    "\n",
    "输出: 5, [1,1,2,2,3,_]\n",
    "\n",
    "条件:\n",
    "\n",
    "1. 1 <= nums.length <= 3 * 10^4\n",
    "2. -10^4 <= nums[i] <= 10^4\n",
    "3. nums is sorted in ascending order.\n",
    "\n",
    "## 思路:(如何判断重复2次)\n",
    "1. 创建两个指针, 一个指向至多重复2次的元素, 一个指向当前遍历的元素\n",
    "2. 如果当前元素和前一个元素不相等, 或与前一个元素相等且重复2次, 则将当前元素加入\n",
    "- 时间复杂度: O(n), 空间复杂度: O(1)"
   ]
  },
  {
   "cell_type": "code",
   "execution_count": 1,
   "metadata": {},
   "outputs": [
    {
     "name": "stdout",
     "output_type": "stream",
     "text": [
      "nums = [1, 1, 1, 2, 2, 3]\n",
      "solution = [1, 1, 2, 2, 3],5\n"
     ]
    }
   ],
   "source": [
    "class Solution(object):\n",
    "    def removeDuplicates(self, nums):\n",
    "        \"\"\"\n",
    "        :type nums: List[int]\n",
    "        :rtype: int\n",
    "        \"\"\"\n",
    "        n = len(nums)\n",
    "        if n < 3: return n\n",
    "        # [1,1,1,2,2,3]\n",
    "        #    ^ ^\n",
    "        #    i j\n",
    "        i, j = 1, 2\n",
    "        \n",
    "        while j < n:\n",
    "            # j 和 j-1 不相等 or 相等但重复2次\n",
    "            if nums[j] != nums[j-1] or nums[j] != nums[i-1]:\n",
    "                nums[i+1] = nums[j]\n",
    "                i += 1\n",
    "            j += 1\n",
    "        \n",
    "        return i+1\n",
    "\n",
    "\n",
    "if __name__ == '__main__':\n",
    "    nums = [1,1,1,2,2,3]\n",
    "    print(f'nums = {nums}')\n",
    "    k = Solution().removeDuplicates(nums)\n",
    "    print(f'solution = {nums[:k]},{k}')"
   ]
  },
  {
   "cell_type": "markdown",
   "metadata": {},
   "source": [
    "# 005_Majority_Element\n",
    "\n",
    "## 问题: 返回数组中出现次数超过一半的多数元素\n",
    "\n",
    "输入: [3,2,3]\n",
    "输出: 3\n",
    "\n",
    "条件:\n",
    "1. n = nums.length\n",
    "2. 1 <= n <= 5 * 10^4\n",
    "3. -10^9 <= nums[i] <= 10^9\n",
    "\n",
    "## 思路:\n",
    "A. 使用 dict\n",
    "1. 利用 dict 存储元素出现的次数\n",
    "2. 遍历 dict, 找到出现次数超过一半的元素\n",
    "- 时间复杂度: O(n), 空间复杂度: O(n)\n",
    "\n",
    "B. 使用排序\n",
    "1. 对数组进行排序\n",
    "2. 遍历数组, 找到出现次数超过一半的元素\n",
    "- 时间复杂度: O(nlogn), 空间复杂度: O(1)\n",
    "\n",
    "C. 使用投票算法\n",
    "1. 核心思想：多数元素的出现次数比其他所有元素出现次数之和还要多\n",
    "2. 维护一个候选元素(candidate)和计数器(count)\n",
    "3. 遍历数组, 如果当前元素等于候选元素, 则计数器加1\n",
    "4. 否则, 计数器减1\n",
    "5. 如果计数器等于0, 则将候选元素更新为当前元素, 并将计数器置为1\n",
    "- 时间复杂度: O(n), 空间复杂度: O(1)"
   ]
  },
  {
   "cell_type": "code",
   "execution_count": 1,
   "metadata": {},
   "outputs": [
    {
     "name": "stdout",
     "output_type": "stream",
     "text": [
      "nums = [2, 2, 1, 1, 1, 2, 2]\n",
      "solution = 2\n"
     ]
    }
   ],
   "source": [
    "class Solution(object):\n",
    "    def majorityElement(self, nums):\n",
    "        \"\"\"\n",
    "        :type nums: List[int]\n",
    "        :rtype: int\n",
    "        \"\"\"\n",
    "        candidate, count = None, 0\n",
    "\n",
    "        for num in nums:\n",
    "            if count == 0: \n",
    "                candidate = num\n",
    "                count = 1\n",
    "            elif num == candidate:\n",
    "                count += 1\n",
    "            else:\n",
    "                count -= 1\n",
    "        \n",
    "        return candidate\n",
    "\n",
    "if __name__ == \"__main__\":\n",
    "    nums = [2,2,1,1,1,2,2]\n",
    "    print(f'nums = {nums}')\n",
    "    print(f'solution = {Solution().majorityElement(nums)}')"
   ]
  },
  {
   "cell_type": "markdown",
   "metadata": {},
   "source": [
    "# 006_Rotate_Array\n",
    "\n",
    "## 问题: 旋转数组 k 个位置\n",
    "\n",
    "输入: nums = [1,2,3,4,5,6,7], k = 3\n",
    "\n",
    "输出: solution = [5,6,7,1,2,3,4]\n",
    "\n",
    "条件:\n",
    "1. 1 <= nums.length <= 10^5\n",
    "2. -2^31 <= nums[i] <= 2^31 - 1\n",
    "3. 0 <= k <= 10^5\n",
    "\n",
    "## 思路: (注意有可能 k > nums.length)\n",
    "A. 创建新数组\n",
    "1. 从后 k 个元素开始, 逐个将数组中的元素复制到新数组中\n",
    "2. 剩余元素从 0 开始复制到新数组中\n",
    "- 时间复杂度: O(n), 空间复杂度: O(n)\n",
    "\n",
    "B. 利用 pop 和 insert\n",
    "1. 分 k 次 将数组中的元素 pop 出来, 插入到数组的开头\n",
    "- 时间复杂度: O(nk), 空间复杂度: O(1)\n",
    "\n",
    "C. 翻转法\n",
    "1. 翻转整个数组\n",
    "2. 翻转前 k 个元素\n",
    "3. 翻转剩余元素\n",
    "- 时间复杂度: O(n), 空间复杂度: O(1)"
   ]
  },
  {
   "cell_type": "code",
   "execution_count": 1,
   "metadata": {},
   "outputs": [
    {
     "name": "stdout",
     "output_type": "stream",
     "text": [
      "nums = [1, 2, 3, 4, 5, 6, 7], k = 3\n",
      "solution = [5, 6, 7, 1, 2, 3, 4]\n"
     ]
    }
   ],
   "source": [
    "class Solution(object):\n",
    "    def rotate(self, nums, k):\n",
    "        \"\"\"\n",
    "        :type nums: List[int]\n",
    "        :type k: int\n",
    "        :rtype: None Do not return anything, modify nums in-place instead.\n",
    "        \"\"\"\n",
    "        n = len(nums)\n",
    "        k = k % n # 处理 k > nums.length 的情况\n",
    "\n",
    "        def reverse(start, end):\n",
    "            # 翻转 [start, end] 数组\n",
    "            while start < end:\n",
    "                nums[start], nums[end] = nums[end], nums[start]\n",
    "                start += 1\n",
    "                end -= 1\n",
    "        \n",
    "        reverse(0, n - 1)\n",
    "        reverse(0, k - 1)\n",
    "        reverse(k, n - 1)\n",
    "\n",
    "if __name__ == '__main__':\n",
    "    nums = [1,2,3,4,5,6,7]\n",
    "    k = 3\n",
    "    print(f'nums = {nums}, k = {k}')\n",
    "    Solution().rotate(nums, k)\n",
    "    print(f'solution = {nums}')"
   ]
  },
  {
   "cell_type": "markdown",
   "metadata": {},
   "source": [
    "# 007_Buy_Sell_Stock\n",
    "\n",
    "## 问题: 给定股票价格的序列，求购买和售出最大利润\n",
    "\n",
    "输入: prices = [7,1,5,3,6,4]\n",
    "\n",
    "输出: 5\n",
    "\n",
    "条件:\n",
    "1. 1 <= prices.length <= 10^5\n",
    "2. 0 <= prices[i] <= 10^4\n",
    "\n",
    "## 思路:\n",
    "A. 暴力搜索\n",
    "1. 遍历所有可能的情况, 找到最大利润\n",
    "- 时间复杂度: O(n^2), 空间复杂度: O(1)\n",
    "\n",
    "B. 贪心算法（低买高卖）\n",
    "1. 遍历所有价格, 更新最低价格\n",
    "2. 遍历所有价格, 更新最大利润\n",
    "- 时间复杂度: O(n), 空间复杂度: O(1)"
   ]
  },
  {
   "cell_type": "code",
   "execution_count": 1,
   "metadata": {},
   "outputs": [
    {
     "name": "stdout",
     "output_type": "stream",
     "text": [
      "prices = [7, 1, 5, 3, 6, 4]\n",
      "solution = 5\n"
     ]
    }
   ],
   "source": [
    "class Solution(object):\n",
    "    def maxProfit(self, prices):\n",
    "        \"\"\"\n",
    "        :type prices: List[int]\n",
    "        :rtype: int\n",
    "        \"\"\"\n",
    "        min_price, max_profit = prices[0], 0\n",
    "        \n",
    "        for i in range(1, len(prices)):\n",
    "            min_price = min(min_price, prices[i])\n",
    "            max_profit = max(max_profit, prices[i] - min_price)\n",
    "        \n",
    "        return max_profit\n",
    "\n",
    "if __name__ == \"__main__\":\n",
    "    prices = [7,1,5,3,6,4]\n",
    "    print(f'prices = {prices}')\n",
    "    print(f'solution = {Solution().maxProfit(prices)}')"
   ]
  },
  {
   "cell_type": "markdown",
   "metadata": {},
   "source": [
    "# 008_Buy_Sell_Stock_2\n",
    "\n",
    "## 问题: 给定股票价格的序列，求购买和售出最大利润, 可以多次买卖\n",
    "\n",
    "输入: prices = [7,1,5,3,6,4]\n",
    "\n",
    "输出: 7\n",
    "\n",
    "条件:\n",
    "1. 1 <= prices.length <= 3*10^4\n",
    "2. 0 <= prices[i] <= 10^4\n",
    "\n",
    "## 思路:(允许多次买卖, 低买高卖失效)\n",
    "1. 动态规划, dp[i][0] 表示第i天不持有股票时的最大利润, dp[i][1] 表示第i天持有股票时的最大利润\n",
    "\n",
    "2. 状态转移方程:\n",
    "    \n",
    "    dp[i][0] = max(dp[i-1][0], dp[i-1][1] + prices[i])\n",
    "    \n",
    "    dp[i][1] = max(dp[i-1][1], dp[i-1][0] - prices[i])\n",
    "\n",
    "3. 初始条件:\n",
    "    \n",
    "    dp[0][0] = 0\n",
    "    \n",
    "    dp[0][1] = -prices[0]\n",
    "\n",
    "- 时间复杂度: O(n), 空间复杂度: O(n)"
   ]
  },
  {
   "cell_type": "code",
   "execution_count": 1,
   "metadata": {},
   "outputs": [
    {
     "name": "stdout",
     "output_type": "stream",
     "text": [
      "prices = [7, 1, 5, 3, 6, 4]\n",
      "solution = 7\n"
     ]
    }
   ],
   "source": [
    "class Solution(object):\n",
    "    def maxProfit(self, prices):\n",
    "        \"\"\"\n",
    "        :type prices: List[int]\n",
    "        :rtype: int\n",
    "        \"\"\"\n",
    "        n = len(prices)\n",
    "        dp = [[0, 0] for _ in range(n)]\n",
    "        # 初始条件\n",
    "        dp[0][0] = 0\n",
    "        dp[0][1] = -prices[0]\n",
    "        # 状态转移方程\n",
    "        for i in range(1, n):\n",
    "            dp[i][0] = max(dp[i-1][0], dp[i-1][1] + prices[i])\n",
    "            dp[i][1] = max(dp[i-1][1], dp[i-1][0] - prices[i])\n",
    "        \n",
    "        return dp[-1][0]\n",
    "\n",
    "if __name__ == \"__main__\":\n",
    "    prices = [7,1,5,3,6,4]\n",
    "    print(f'prices = {prices}')\n",
    "    print(f'solution = {Solution().maxProfit(prices)}')"
   ]
  },
  {
   "cell_type": "markdown",
   "metadata": {},
   "source": [
    "# 009_Jump_Game\n",
    "\n",
    "## 问题: 数组每个元素代表可以跳跃的最大长度, 判断是否能够到达最后一个位置\n",
    "\n",
    "输入: [2,3,1,1,4]\n",
    "\n",
    "输出: true\n",
    "\n",
    "条件:\n",
    "1. 1 < nums.length <= 10^4\n",
    "2. 0 < nums[i] < 10^5\n",
    "\n",
    "## 思路: (贪心算法)\n",
    "1. 维护一个变量记录当前能到达的最远位置\n",
    "2. 遍历数组, 遇到一个位置 i, 如果 i > max_index, 则返回 False\n",
    "3. 否则, 更新 max_index 为 max(max_index, i + nums[i])\n",
    "- 时间复杂度: O(n), 空间复杂度: O(1)"
   ]
  },
  {
   "cell_type": "code",
   "execution_count": 1,
   "metadata": {},
   "outputs": [
    {
     "name": "stdout",
     "output_type": "stream",
     "text": [
      "nums = [2, 3, 1, 1, 4]\n",
      "True\n"
     ]
    }
   ],
   "source": [
    "class Solution(object):\n",
    "    def canJump(self, nums):\n",
    "        \"\"\"\n",
    "        :type nums: List[int]\n",
    "        :rtype: bool\n",
    "        \"\"\"\n",
    "        max_index = 0\n",
    "        for i in range(len(nums)):\n",
    "            if i > max_index:\n",
    "                return False\n",
    "            max_index = max(max_index, i + nums[i])\n",
    "        return True\n",
    "\n",
    "if __name__ == '__main__':\n",
    "    nums = [2,3,1,1,4]\n",
    "    print(f'nums = {nums}')\n",
    "    print(Solution().canJump(nums))"
   ]
  },
  {
   "cell_type": "markdown",
   "metadata": {},
   "source": [
    "# 010_Jump_Game_2\n",
    "\n",
    "## 问题: 数组元素代表可以跳跃的最大长度, 计算到达最末所需最少跳跃次数\n",
    " \n",
    "输入: [2,3,1,1,4]\n",
    "\n",
    "输出: 2\n",
    "\n",
    "条件:\n",
    "1. 1 <= nums.length <= 10^4\n",
    "2. 0 <= nums[i] <= 1000\n",
    "3. 确保一定可以到达末尾\n",
    "\n",
    "## 思路: (主要是跳的远的同时保证跳的次数少)\n",
    "A. 贪心算法 + BFS\n",
    "1. jumps : 当前跳跃次数\n",
    "2. cur_end : 当前跳跃的最远距离\n",
    "3. farthest : [当前, cur_end]中所有可达的最远距离\n",
    "- 时间复杂度: O(n), 空间复杂度: O(1)"
   ]
  },
  {
   "cell_type": "code",
   "execution_count": 1,
   "metadata": {},
   "outputs": [
    {
     "name": "stdout",
     "output_type": "stream",
     "text": [
      "nums = [2, 3, 1, 1, 4]\n",
      "solution = 2\n"
     ]
    }
   ],
   "source": [
    "class Solution(object):\n",
    "    def jump(self, nums):\n",
    "        \"\"\"\n",
    "        :type nums: List[int]\n",
    "        :rtype: int\n",
    "        \"\"\"\n",
    "        jumps, cur_end, farthest = 0, 0, 0\n",
    "\n",
    "        for i in range(len(nums) - 1):\n",
    "            farthest = max(farthest, i + nums[i])\n",
    "            \n",
    "            if i == cur_end:\n",
    "                jumps += 1\n",
    "                cur_end = farthest\n",
    "            \n",
    "            if cur_end >= len(nums) - 1:\n",
    "                break\n",
    "        \n",
    "        return jumps\n",
    "\n",
    "if __name__ == \"__main__\":\n",
    "    nums = [2,3,1,1,4]\n",
    "    print(f'nums = {nums}')\n",
    "    print(f'solution = {Solution().jump(nums)}')"
   ]
  },
  {
   "cell_type": "markdown",
   "metadata": {},
   "source": [
    "# 011_H-Index\n",
    "\n",
    "## 问题: 给定一个论文引用数组, 求H指数。H指数为至少有h篇论文被引用h次\n",
    "\n",
    "输入: citations = [3,0,6,1,5]\n",
    "\n",
    "输出: 3\n",
    "\n",
    "条件：\n",
    "1. n == citations.length\n",
    "2. 1 <= n <= 5000\n",
    "3. 0 <= citations[i] <= 1000\n",
    "\n",
    "## 思路:\n",
    "A. 升序排序\n",
    "1. 遍历排序后的数组, 找到第一个满足 citations[i] >= n - i 的 i\n",
    "2. 返回 n - i\n",
    "- 时间复杂度: O(nlogn), 空间复杂度: O(1)"
   ]
  },
  {
   "cell_type": "code",
   "execution_count": 1,
   "metadata": {},
   "outputs": [
    {
     "name": "stdout",
     "output_type": "stream",
     "text": [
      "citations=[3, 0, 6, 1, 5]\n",
      "solution=3\n"
     ]
    }
   ],
   "source": [
    "class Solution(object):\n",
    "    def hIndex(self, citations):\n",
    "        \"\"\"\n",
    "        :type citations: List[int]\n",
    "        :rtype: int\n",
    "        \"\"\"\n",
    "        n = len(citations)\n",
    "        citations.sort()\n",
    "        for i in range(n):\n",
    "            if citations[i] >= n - i:\n",
    "                return n - i\n",
    "        return 0\n",
    "\n",
    "if __name__ == '__main__':\n",
    "    citations = [3,0,6,1,5]\n",
    "    print(f'citations={citations}')\n",
    "    print(f'solution={Solution().hIndex(citations)}')"
   ]
  },
  {
   "cell_type": "markdown",
   "metadata": {},
   "source": [
    "# 012_Product_of_Array\n",
    "\n",
    "## 问题: 求数组中每个元素不包含自己的乘积\n",
    "\n",
    "输入: nums = [1, 2, 3, 4]\n",
    "\n",
    "输出: [24, 12, 8, 6]\n",
    "\n",
    "条件:\n",
    "1. 2 <= nums.length <= 10^5\n",
    "2. -30 <= nums[i] <= 30\n",
    "3. 乘积保证不会溢出32位整数\n",
    "4. 要求时间复杂度O(n), 不使用除法\n",
    "\n",
    "# 思路: (多次遍历)\n",
    "A. 创建两个数组 lefts 和 rights\n",
    "1. lefts 为 nums 中每个元素左边的乘积\n",
    "2. rights 为 nums 中每个元素右边的乘积\n",
    "3. 返回最终的结果\n",
    "- 时间复杂度: O(n), 空间复杂度: O(n)\n",
    "\n",
    "B. 创建一个数组 res 进行空间复用\n",
    "1. 计算每个元素左边的乘积存入 res\n",
    "2. 单变量更新每个元素右边的乘积, 与左边乘积计算得到最终结果\n",
    "- 时间复杂度: O(n), 空间复杂度: O(1)"
   ]
  },
  {
   "cell_type": "code",
   "execution_count": 1,
   "metadata": {},
   "outputs": [
    {
     "name": "stdout",
     "output_type": "stream",
     "text": [
      "nums = [1, 2, 3, 4]\n",
      "solution = [24, 12, 8, 6]\n"
     ]
    }
   ],
   "source": [
    "class Solution(object):\n",
    "    def productExceptSelf(self, nums):\n",
    "        \"\"\"\n",
    "        :type nums: List[int]\n",
    "        :rtype: List[int]\n",
    "        \"\"\"\n",
    "        n = len(nums)\n",
    "        res = [1] * n\n",
    "\n",
    "        for i in range(1, n):\n",
    "            res[i] = res[i - 1] * nums[i - 1]\n",
    "\n",
    "        rightproduct = 1\n",
    "\n",
    "        for i in range(n - 2, -1, -1):\n",
    "            rightproduct *= nums[i + 1]\n",
    "            res[i] *= rightproduct\n",
    "        \n",
    "        return res\n",
    "\n",
    "if __name__ == \"__main__\":\n",
    "    nums = [1, 2, 3, 4]\n",
    "    print(f'nums = {nums}')\n",
    "    print(f'solution = {Solution().productExceptSelf(nums)}')"
   ]
  },
  {
   "cell_type": "markdown",
   "metadata": {},
   "source": [
    "# 013_Gas_Station\n",
    "## 问题: 从一个环形加油站的哪一站出发, 才能回到原点\n",
    " \n",
    "输入: gas = [1,2,3,4,5], cost = [3,4,5,1,2] (gas 每一个站的油量, cost 去下一站需要消耗的油量)\n",
    "\n",
    "输出: 3 (从3站出发, 油量足够回到原点, 若任何一站都不可以返回 -1)\n",
    "\n",
    "条件:\n",
    "1. n == gas.length == cost.length\n",
    "2. 1 <= n <= 10^5\n",
    "3. 0 <= gas[i], cost[i] <= 10^4\n",
    "4. 如果有答案, 确保一定是唯一的\n",
    "\n",
    "## 思路:\n",
    "A. 暴力求解\n",
    "1. 尝试从每一个站点出发, 模拟加油的过程, 直到油量为0\n",
    "2. 若有解, 返回起始站点, 若无解, 返回-1\n",
    "- 时间复杂度: O(n^2), 空间复杂度: O(1)\n",
    "\n",
    "B. 单次便历\n",
    "\n",
    "关键点: \n",
    "\n",
    "- 若 A 出发, 在 B 耗尽, 则 AB 中的任何一点都不可能到 B\n",
    "- 若 A 出发能到结尾, 就一定能绕一圈回来 (因为预先检查有解保证)\n",
    "- 所以问题就转为寻找, 从哪一点出发能到结尾?\n",
    "\n",
    "1. 初始化 current_tank = 0 和 start = 0\n",
    "2. 遍历每个站点索引, 更新 current_tank\n",
    "3. 若 current_tank < 0, 则无法从 start 出发, 更新 start, 重置\n",
    "4. 若遍历结束, 且 current_tank >= 0, 则存在解, 返回 start, 否则返回 -1\n",
    "- 时间复杂度: O(n), 空间复杂度: O(1)"
   ]
  },
  {
   "cell_type": "code",
   "execution_count": 1,
   "metadata": {},
   "outputs": [
    {
     "name": "stdout",
     "output_type": "stream",
     "text": [
      "gas = [1, 2, 3, 4, 5], cost = [3, 4, 5, 1, 2]\n",
      "solution = 3\n"
     ]
    }
   ],
   "source": [
    "class Solution(object):\n",
    "    def canCompleteCircuit(self, gas, cost):\n",
    "        \"\"\"\n",
    "        :type gas: List[int]\n",
    "        :type cost: List[int]\n",
    "        :rtype: int\n",
    "        \"\"\"\n",
    "        if sum(gas) < sum(cost): return -1 # 预先检查是否有解\n",
    "\n",
    "        current_tank, start = 0, 0\n",
    "\n",
    "        for i in range(len(gas)):\n",
    "            current_tank += gas[i] - cost[i]\n",
    "            if current_tank < 0:\n",
    "                start = i + 1\n",
    "                current_tank = 0\n",
    "        \n",
    "        return start if current_tank >= 0 else -1\n",
    "\n",
    "if __name__ == \"__main__\":\n",
    "    gas = [1,2,3,4,5]\n",
    "    cost = [3,4,5,1,2]\n",
    "    print(f'gas = {gas}, cost = {cost}')\n",
    "    print(f'solution = {Solution().canCompleteCircuit(gas, cost)}')"
   ]
  },
  {
   "cell_type": "markdown",
   "metadata": {},
   "source": [
    "# 014_Candy\n",
    "\n",
    "## 问题: 为每个小孩分发糖果所需的最小的糖果数\n",
    "\n",
    "输入: ratings = [1,0,2] (每个小孩有一个得分)\n",
    "\n",
    "输出: 5 (分发糖果数2, 1, 2, 要求每个小孩至少有一个糖果, 且比相邻评分高的小孩获得更多的糖果)\n",
    "\n",
    "条件:\n",
    "1. n == ratings.length\n",
    "2. 1 <= n <= 2 * 10^4\n",
    "3. 0 <= ratings[i] <= 2 * 10^4\n",
    "\n",
    "## 思路:\n",
    "A. 两次遍历\n",
    "1. 初始化糖果数组为全1, 保证每个小孩至少有一个糖果\n",
    "2. 从左到右遍历, 确保满足右边约束\n",
    "3. 从右到左遍历, 确保满足左边约束\n",
    "4. 返回糖果数组的和\n",
    "- 时间复杂度: O(n), 空间复杂度: O(n)"
   ]
  },
  {
   "cell_type": "code",
   "execution_count": 1,
   "metadata": {},
   "outputs": [
    {
     "name": "stdout",
     "output_type": "stream",
     "text": [
      "nums = [1, 0, 2]\n",
      "solution = 5\n"
     ]
    }
   ],
   "source": [
    "class Solution(object):\n",
    "    def candy(self, ratings):\n",
    "        \"\"\"\n",
    "        :type ratings: List[int]\n",
    "        :rtype: int\n",
    "        \"\"\"\n",
    "        n = len(ratings)\n",
    "        candy = [1] * n\n",
    "\n",
    "        for i in range(1, n):\n",
    "            if ratings[i] > ratings[i-1]:\n",
    "                candy[i] = candy[i-1] + 1\n",
    "        \n",
    "        for i in range(n-2, -1, -1):\n",
    "            if ratings[i] > ratings[i+1]:\n",
    "                candy[i] = max(candy[i], candy[i+1] + 1)\n",
    "        \n",
    "        return sum(candy)\n",
    "\n",
    "if __name__ == \"__main__\":\n",
    "    nums = [1,0,2]\n",
    "    print(f'nums = {nums}')\n",
    "    print(f'solution = {Solution().candy(nums)}')"
   ]
  },
  {
   "cell_type": "markdown",
   "metadata": {},
   "source": [
    "# 015_Longest_Prefix\n",
    "\n",
    "## 问题: 找到所有字符串中的最长公共前缀\n",
    "\n",
    "输入: [\"flower\",\"flow\",\"flight\"]\n",
    "\n",
    "输出: \"fl\"\n",
    "\n",
    "条件:\n",
    "1. 1 <= strs.length <= 200\n",
    "2. 0 <= strs[i].length <= 200\n",
    "3. strs[i] 仅由小写英文字母组成\n",
    "\n",
    "## 思路:\n",
    "A. 逐个比较\n",
    "1. 定义辅助函数 longestPrefix 比较两个字符串的公共前缀\n",
    "2. 逐个比较 strs 中的字符串，更新最长公共前缀\n",
    "- m 为字符串平均长度, n 为字符串数量\n",
    "- 逐个添加比较, 时间复杂度: O(mn)\n",
    "- 切片比较, 时间复杂度: O(n)"
   ]
  },
  {
   "cell_type": "code",
   "execution_count": 1,
   "metadata": {},
   "outputs": [
    {
     "name": "stdout",
     "output_type": "stream",
     "text": [
      "strs = ['flower', 'flow', 'flight']\n",
      "solution = fl\n"
     ]
    }
   ],
   "source": [
    "class Solution(object):\n",
    "    def longestPrefix(self, str1, str2):\n",
    "        if len(str1) > len(str2):\n",
    "            str1, str2 = str2, str1\n",
    "        \n",
    "        if False: # 引入 prefix 逐个添加 O(m)\n",
    "            prefix = \"\"\n",
    "            for i in range(len(str1)):\n",
    "                if str1[i] == str2[i]:\n",
    "                    prefix += str1[i]\n",
    "                else:\n",
    "                    break\n",
    "            return prefix\n",
    "        else: # 直接切片 O(1)\n",
    "            for i in range(len(str1)):\n",
    "                if str1[i] != str2[i]:\n",
    "                    return str1[:i]\n",
    "            return str1\n",
    "    \n",
    "    def longestCommonPrefix(self, strs):\n",
    "        \"\"\"\n",
    "        :type strs: List[str]\n",
    "        :rtype: str\n",
    "        \"\"\"\n",
    "        common_prefix = strs[0]\n",
    "        for i in range(1, len(strs)):\n",
    "            common_prefix = self.longestPrefix(common_prefix, strs[i])\n",
    "            if common_prefix == \"\": break\n",
    "        return common_prefix\n",
    "\n",
    "if __name__ == \"__main__\":\n",
    "    strs = [\"flower\",\"flow\",\"flight\"]\n",
    "    print(f'strs = {strs}')\n",
    "    print(f'solution = {Solution().longestCommonPrefix(strs)}')"
   ]
  },
  {
   "cell_type": "markdown",
   "metadata": {},
   "source": [
    "# 016_Rainwater_Trap\n",
    "\n",
    "## 问题: 给直方图表示的柱子高度数组，计算下雨后能接多少雨水\n",
    "\n",
    "输入: [0,1,0,2,1,0,1,3,2,1,2,1]\n",
    "\n",
    "输出: 6\n",
    "\n",
    "![rainwatertrap](main/rainwatertrap.png)\n",
    "\n",
    "条件:\n",
    "1. 1 <= height.length <= 2 * 10^4\n",
    "2. 0 <= height[i] <= 10^5\n",
    "\n",
    "## 思路:\n",
    "双指针法 (核心逻辑: 谁矮谁先算)\n",
    "1. 两个人从两边向中间走, 每人手里拿着一把尺子, 记录自己走过的最高柱子高度(left_max 和 right_max)\n",
    "2. 左边(left)发现当前柱子比右边(right)的柱子矮, 则左边的水位由左边最高柱子决定（因为右边有更高的柱子兜底，水不会从右边漏掉）\n",
    "3. 右边(right)发现当前柱子比左边(left)的柱子矮, 则右边的水位由右边最高柱子决定（因为左边有更高的柱子兜底，水不会从左边漏掉）\n",
    "- 时间复杂度: O(n), 空间复杂度: O(1)"
   ]
  },
  {
   "cell_type": "code",
   "execution_count": 1,
   "metadata": {},
   "outputs": [
    {
     "name": "stdout",
     "output_type": "stream",
     "text": [
      "height = [0, 1, 0, 2, 1, 0, 1, 3, 2, 1, 2, 1]\n",
      "solution = 6\n"
     ]
    }
   ],
   "source": [
    "class Solution(object):\n",
    "    def trap(self, height):\n",
    "        \"\"\"\n",
    "        :type height: List[int]\n",
    "        :rtype: int\n",
    "        \"\"\"\n",
    "        left, right = 0, len(height) - 1\n",
    "        left_max, right_max = 0, 0\n",
    "        water_trapped = 0\n",
    "        while left < right:\n",
    "            if height[left] < height[right]:\n",
    "                if height[left] >= left_max:\n",
    "                    left_max = height[left]\n",
    "                else:\n",
    "                    water_trapped += left_max - height[left]\n",
    "                left += 1\n",
    "            else:\n",
    "                if height[right] >= right_max:\n",
    "                    right_max = height[right]\n",
    "                else:\n",
    "                    water_trapped += right_max - height[right]\n",
    "                right -= 1\n",
    "        return water_trapped\n",
    "\n",
    "if __name__ == '__main__':\n",
    "    height = [0,1,0,2,1,0,1,3,2,1,2,1]\n",
    "    print(f'height = {height}')\n",
    "    print(f'solution = {Solution().trap(height)}')"
   ]
  }
 ],
 "metadata": {
  "kernelspec": {
   "display_name": "Hang",
   "language": "python",
   "name": "python3"
  },
  "language_info": {
   "codemirror_mode": {
    "name": "ipython",
    "version": 3
   },
   "file_extension": ".py",
   "mimetype": "text/x-python",
   "name": "python",
   "nbconvert_exporter": "python",
   "pygments_lexer": "ipython3",
   "version": "3.9.7"
  }
 },
 "nbformat": 4,
 "nbformat_minor": 2
}
